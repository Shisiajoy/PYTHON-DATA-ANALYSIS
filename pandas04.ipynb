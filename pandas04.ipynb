{
  "nbformat": 4,
  "nbformat_minor": 0,
  "metadata": {
    "colab": {
      "provenance": [],
      "authorship_tag": "ABX9TyOj+UE8d9PhbNodq4AgqVbZ",
      "include_colab_link": true
    },
    "kernelspec": {
      "name": "python3",
      "display_name": "Python 3"
    },
    "language_info": {
      "name": "python"
    }
  },
  "cells": [
    {
      "cell_type": "markdown",
      "metadata": {
        "id": "view-in-github",
        "colab_type": "text"
      },
      "source": [
        "<a href=\"https://colab.research.google.com/github/Shisiajoy/PYTHON-DATA-ANALYSIS/blob/main/pandas04.ipynb\" target=\"_parent\"><img src=\"https://colab.research.google.com/assets/colab-badge.svg\" alt=\"Open In Colab\"/></a>"
      ]
    },
    {
      "cell_type": "markdown",
      "source": [
        "***Occupation***\n",
        "\n",
        "Introduction:\n",
        "\n",
        "Special thanks to: https://github.com/justmarkham for sharing the dataset and materials.\n",
        "\n",
        "Step 1. Import the necessary libraries"
      ],
      "metadata": {
        "id": "IUAP9bWih_B5"
      }
    },
    {
      "cell_type": "code",
      "source": [
        "import pandas as pd"
      ],
      "metadata": {
        "id": "WuNT-8bvicMp"
      },
      "execution_count": 1,
      "outputs": []
    },
    {
      "cell_type": "markdown",
      "source": [
        "Step 2. Import the dataset from this address.\n",
        "\n",
        "Step 3. Assign it to a variable called users."
      ],
      "metadata": {
        "id": "g0rM2nlxiRjS"
      }
    },
    {
      "cell_type": "code",
      "source": [
        "url = \"https://raw.githubusercontent.com/justmarkham/DAT8/master/data/u.user\"\n",
        "users = pd.read_csv(url, delimiter='|')\n",
        "users.head()"
      ],
      "metadata": {
        "colab": {
          "base_uri": "https://localhost:8080/",
          "height": 206
        },
        "id": "DogzM3jUik0r",
        "outputId": "cfc365bf-b2c4-4573-900f-c2058881fb5b"
      },
      "execution_count": 3,
      "outputs": [
        {
          "output_type": "execute_result",
          "data": {
            "text/plain": [
              "   user_id  age gender  occupation zip_code\n",
              "0        1   24      M  technician    85711\n",
              "1        2   53      F       other    94043\n",
              "2        3   23      M      writer    32067\n",
              "3        4   24      M  technician    43537\n",
              "4        5   33      F       other    15213"
            ],
            "text/html": [
              "\n",
              "  <div id=\"df-fae12996-1762-4cd2-9e87-2727a36f3c1e\" class=\"colab-df-container\">\n",
              "    <div>\n",
              "<style scoped>\n",
              "    .dataframe tbody tr th:only-of-type {\n",
              "        vertical-align: middle;\n",
              "    }\n",
              "\n",
              "    .dataframe tbody tr th {\n",
              "        vertical-align: top;\n",
              "    }\n",
              "\n",
              "    .dataframe thead th {\n",
              "        text-align: right;\n",
              "    }\n",
              "</style>\n",
              "<table border=\"1\" class=\"dataframe\">\n",
              "  <thead>\n",
              "    <tr style=\"text-align: right;\">\n",
              "      <th></th>\n",
              "      <th>user_id</th>\n",
              "      <th>age</th>\n",
              "      <th>gender</th>\n",
              "      <th>occupation</th>\n",
              "      <th>zip_code</th>\n",
              "    </tr>\n",
              "  </thead>\n",
              "  <tbody>\n",
              "    <tr>\n",
              "      <th>0</th>\n",
              "      <td>1</td>\n",
              "      <td>24</td>\n",
              "      <td>M</td>\n",
              "      <td>technician</td>\n",
              "      <td>85711</td>\n",
              "    </tr>\n",
              "    <tr>\n",
              "      <th>1</th>\n",
              "      <td>2</td>\n",
              "      <td>53</td>\n",
              "      <td>F</td>\n",
              "      <td>other</td>\n",
              "      <td>94043</td>\n",
              "    </tr>\n",
              "    <tr>\n",
              "      <th>2</th>\n",
              "      <td>3</td>\n",
              "      <td>23</td>\n",
              "      <td>M</td>\n",
              "      <td>writer</td>\n",
              "      <td>32067</td>\n",
              "    </tr>\n",
              "    <tr>\n",
              "      <th>3</th>\n",
              "      <td>4</td>\n",
              "      <td>24</td>\n",
              "      <td>M</td>\n",
              "      <td>technician</td>\n",
              "      <td>43537</td>\n",
              "    </tr>\n",
              "    <tr>\n",
              "      <th>4</th>\n",
              "      <td>5</td>\n",
              "      <td>33</td>\n",
              "      <td>F</td>\n",
              "      <td>other</td>\n",
              "      <td>15213</td>\n",
              "    </tr>\n",
              "  </tbody>\n",
              "</table>\n",
              "</div>\n",
              "    <div class=\"colab-df-buttons\">\n",
              "\n",
              "  <div class=\"colab-df-container\">\n",
              "    <button class=\"colab-df-convert\" onclick=\"convertToInteractive('df-fae12996-1762-4cd2-9e87-2727a36f3c1e')\"\n",
              "            title=\"Convert this dataframe to an interactive table.\"\n",
              "            style=\"display:none;\">\n",
              "\n",
              "  <svg xmlns=\"http://www.w3.org/2000/svg\" height=\"24px\" viewBox=\"0 -960 960 960\">\n",
              "    <path d=\"M120-120v-720h720v720H120Zm60-500h600v-160H180v160Zm220 220h160v-160H400v160Zm0 220h160v-160H400v160ZM180-400h160v-160H180v160Zm440 0h160v-160H620v160ZM180-180h160v-160H180v160Zm440 0h160v-160H620v160Z\"/>\n",
              "  </svg>\n",
              "    </button>\n",
              "\n",
              "  <style>\n",
              "    .colab-df-container {\n",
              "      display:flex;\n",
              "      gap: 12px;\n",
              "    }\n",
              "\n",
              "    .colab-df-convert {\n",
              "      background-color: #E8F0FE;\n",
              "      border: none;\n",
              "      border-radius: 50%;\n",
              "      cursor: pointer;\n",
              "      display: none;\n",
              "      fill: #1967D2;\n",
              "      height: 32px;\n",
              "      padding: 0 0 0 0;\n",
              "      width: 32px;\n",
              "    }\n",
              "\n",
              "    .colab-df-convert:hover {\n",
              "      background-color: #E2EBFA;\n",
              "      box-shadow: 0px 1px 2px rgba(60, 64, 67, 0.3), 0px 1px 3px 1px rgba(60, 64, 67, 0.15);\n",
              "      fill: #174EA6;\n",
              "    }\n",
              "\n",
              "    .colab-df-buttons div {\n",
              "      margin-bottom: 4px;\n",
              "    }\n",
              "\n",
              "    [theme=dark] .colab-df-convert {\n",
              "      background-color: #3B4455;\n",
              "      fill: #D2E3FC;\n",
              "    }\n",
              "\n",
              "    [theme=dark] .colab-df-convert:hover {\n",
              "      background-color: #434B5C;\n",
              "      box-shadow: 0px 1px 3px 1px rgba(0, 0, 0, 0.15);\n",
              "      filter: drop-shadow(0px 1px 2px rgba(0, 0, 0, 0.3));\n",
              "      fill: #FFFFFF;\n",
              "    }\n",
              "  </style>\n",
              "\n",
              "    <script>\n",
              "      const buttonEl =\n",
              "        document.querySelector('#df-fae12996-1762-4cd2-9e87-2727a36f3c1e button.colab-df-convert');\n",
              "      buttonEl.style.display =\n",
              "        google.colab.kernel.accessAllowed ? 'block' : 'none';\n",
              "\n",
              "      async function convertToInteractive(key) {\n",
              "        const element = document.querySelector('#df-fae12996-1762-4cd2-9e87-2727a36f3c1e');\n",
              "        const dataTable =\n",
              "          await google.colab.kernel.invokeFunction('convertToInteractive',\n",
              "                                                    [key], {});\n",
              "        if (!dataTable) return;\n",
              "\n",
              "        const docLinkHtml = 'Like what you see? Visit the ' +\n",
              "          '<a target=\"_blank\" href=https://colab.research.google.com/notebooks/data_table.ipynb>data table notebook</a>'\n",
              "          + ' to learn more about interactive tables.';\n",
              "        element.innerHTML = '';\n",
              "        dataTable['output_type'] = 'display_data';\n",
              "        await google.colab.output.renderOutput(dataTable, element);\n",
              "        const docLink = document.createElement('div');\n",
              "        docLink.innerHTML = docLinkHtml;\n",
              "        element.appendChild(docLink);\n",
              "      }\n",
              "    </script>\n",
              "  </div>\n",
              "\n",
              "\n",
              "<div id=\"df-43dd0c81-2873-4372-811b-9194f0813bea\">\n",
              "  <button class=\"colab-df-quickchart\" onclick=\"quickchart('df-43dd0c81-2873-4372-811b-9194f0813bea')\"\n",
              "            title=\"Suggest charts\"\n",
              "            style=\"display:none;\">\n",
              "\n",
              "<svg xmlns=\"http://www.w3.org/2000/svg\" height=\"24px\"viewBox=\"0 0 24 24\"\n",
              "     width=\"24px\">\n",
              "    <g>\n",
              "        <path d=\"M19 3H5c-1.1 0-2 .9-2 2v14c0 1.1.9 2 2 2h14c1.1 0 2-.9 2-2V5c0-1.1-.9-2-2-2zM9 17H7v-7h2v7zm4 0h-2V7h2v10zm4 0h-2v-4h2v4z\"/>\n",
              "    </g>\n",
              "</svg>\n",
              "  </button>\n",
              "\n",
              "<style>\n",
              "  .colab-df-quickchart {\n",
              "      --bg-color: #E8F0FE;\n",
              "      --fill-color: #1967D2;\n",
              "      --hover-bg-color: #E2EBFA;\n",
              "      --hover-fill-color: #174EA6;\n",
              "      --disabled-fill-color: #AAA;\n",
              "      --disabled-bg-color: #DDD;\n",
              "  }\n",
              "\n",
              "  [theme=dark] .colab-df-quickchart {\n",
              "      --bg-color: #3B4455;\n",
              "      --fill-color: #D2E3FC;\n",
              "      --hover-bg-color: #434B5C;\n",
              "      --hover-fill-color: #FFFFFF;\n",
              "      --disabled-bg-color: #3B4455;\n",
              "      --disabled-fill-color: #666;\n",
              "  }\n",
              "\n",
              "  .colab-df-quickchart {\n",
              "    background-color: var(--bg-color);\n",
              "    border: none;\n",
              "    border-radius: 50%;\n",
              "    cursor: pointer;\n",
              "    display: none;\n",
              "    fill: var(--fill-color);\n",
              "    height: 32px;\n",
              "    padding: 0;\n",
              "    width: 32px;\n",
              "  }\n",
              "\n",
              "  .colab-df-quickchart:hover {\n",
              "    background-color: var(--hover-bg-color);\n",
              "    box-shadow: 0 1px 2px rgba(60, 64, 67, 0.3), 0 1px 3px 1px rgba(60, 64, 67, 0.15);\n",
              "    fill: var(--button-hover-fill-color);\n",
              "  }\n",
              "\n",
              "  .colab-df-quickchart-complete:disabled,\n",
              "  .colab-df-quickchart-complete:disabled:hover {\n",
              "    background-color: var(--disabled-bg-color);\n",
              "    fill: var(--disabled-fill-color);\n",
              "    box-shadow: none;\n",
              "  }\n",
              "\n",
              "  .colab-df-spinner {\n",
              "    border: 2px solid var(--fill-color);\n",
              "    border-color: transparent;\n",
              "    border-bottom-color: var(--fill-color);\n",
              "    animation:\n",
              "      spin 1s steps(1) infinite;\n",
              "  }\n",
              "\n",
              "  @keyframes spin {\n",
              "    0% {\n",
              "      border-color: transparent;\n",
              "      border-bottom-color: var(--fill-color);\n",
              "      border-left-color: var(--fill-color);\n",
              "    }\n",
              "    20% {\n",
              "      border-color: transparent;\n",
              "      border-left-color: var(--fill-color);\n",
              "      border-top-color: var(--fill-color);\n",
              "    }\n",
              "    30% {\n",
              "      border-color: transparent;\n",
              "      border-left-color: var(--fill-color);\n",
              "      border-top-color: var(--fill-color);\n",
              "      border-right-color: var(--fill-color);\n",
              "    }\n",
              "    40% {\n",
              "      border-color: transparent;\n",
              "      border-right-color: var(--fill-color);\n",
              "      border-top-color: var(--fill-color);\n",
              "    }\n",
              "    60% {\n",
              "      border-color: transparent;\n",
              "      border-right-color: var(--fill-color);\n",
              "    }\n",
              "    80% {\n",
              "      border-color: transparent;\n",
              "      border-right-color: var(--fill-color);\n",
              "      border-bottom-color: var(--fill-color);\n",
              "    }\n",
              "    90% {\n",
              "      border-color: transparent;\n",
              "      border-bottom-color: var(--fill-color);\n",
              "    }\n",
              "  }\n",
              "</style>\n",
              "\n",
              "  <script>\n",
              "    async function quickchart(key) {\n",
              "      const quickchartButtonEl =\n",
              "        document.querySelector('#' + key + ' button');\n",
              "      quickchartButtonEl.disabled = true;  // To prevent multiple clicks.\n",
              "      quickchartButtonEl.classList.add('colab-df-spinner');\n",
              "      try {\n",
              "        const charts = await google.colab.kernel.invokeFunction(\n",
              "            'suggestCharts', [key], {});\n",
              "      } catch (error) {\n",
              "        console.error('Error during call to suggestCharts:', error);\n",
              "      }\n",
              "      quickchartButtonEl.classList.remove('colab-df-spinner');\n",
              "      quickchartButtonEl.classList.add('colab-df-quickchart-complete');\n",
              "    }\n",
              "    (() => {\n",
              "      let quickchartButtonEl =\n",
              "        document.querySelector('#df-43dd0c81-2873-4372-811b-9194f0813bea button');\n",
              "      quickchartButtonEl.style.display =\n",
              "        google.colab.kernel.accessAllowed ? 'block' : 'none';\n",
              "    })();\n",
              "  </script>\n",
              "</div>\n",
              "\n",
              "    </div>\n",
              "  </div>\n"
            ],
            "application/vnd.google.colaboratory.intrinsic+json": {
              "type": "dataframe",
              "variable_name": "users",
              "summary": "{\n  \"name\": \"users\",\n  \"rows\": 943,\n  \"fields\": [\n    {\n      \"column\": \"user_id\",\n      \"properties\": {\n        \"dtype\": \"number\",\n        \"std\": 272,\n        \"min\": 1,\n        \"max\": 943,\n        \"num_unique_values\": 943,\n        \"samples\": [\n          97,\n          266,\n          811\n        ],\n        \"semantic_type\": \"\",\n        \"description\": \"\"\n      }\n    },\n    {\n      \"column\": \"age\",\n      \"properties\": {\n        \"dtype\": \"number\",\n        \"std\": 12,\n        \"min\": 7,\n        \"max\": 73,\n        \"num_unique_values\": 61,\n        \"samples\": [\n          24,\n          57,\n          52\n        ],\n        \"semantic_type\": \"\",\n        \"description\": \"\"\n      }\n    },\n    {\n      \"column\": \"gender\",\n      \"properties\": {\n        \"dtype\": \"category\",\n        \"num_unique_values\": 2,\n        \"samples\": [\n          \"F\",\n          \"M\"\n        ],\n        \"semantic_type\": \"\",\n        \"description\": \"\"\n      }\n    },\n    {\n      \"column\": \"occupation\",\n      \"properties\": {\n        \"dtype\": \"category\",\n        \"num_unique_values\": 21,\n        \"samples\": [\n          \"technician\",\n          \"healthcare\"\n        ],\n        \"semantic_type\": \"\",\n        \"description\": \"\"\n      }\n    },\n    {\n      \"column\": \"zip_code\",\n      \"properties\": {\n        \"dtype\": \"string\",\n        \"num_unique_values\": 795,\n        \"samples\": [\n          \"90016\",\n          \"15232\"\n        ],\n        \"semantic_type\": \"\",\n        \"description\": \"\"\n      }\n    }\n  ]\n}"
            }
          },
          "metadata": {},
          "execution_count": 3
        }
      ]
    },
    {
      "cell_type": "markdown",
      "source": [
        "Step 4. Discover what is the mean age per occupation"
      ],
      "metadata": {
        "id": "Ztbs5a11jjSk"
      }
    },
    {
      "cell_type": "code",
      "source": [
        "mean_age_per_occupation = users.groupby('occupation')['age'].mean()\n",
        "print(\"Mean age per occupation:\\n\", mean_age_per_occupation)\n"
      ],
      "metadata": {
        "colab": {
          "base_uri": "https://localhost:8080/"
        },
        "id": "jj-qnvfRil25",
        "outputId": "b93b7735-9859-4683-f720-27b9c2222baa"
      },
      "execution_count": 4,
      "outputs": [
        {
          "output_type": "stream",
          "name": "stdout",
          "text": [
            "Mean age per occupation:\n",
            " occupation\n",
            "administrator    38.746835\n",
            "artist           31.392857\n",
            "doctor           43.571429\n",
            "educator         42.010526\n",
            "engineer         36.388060\n",
            "entertainment    29.222222\n",
            "executive        38.718750\n",
            "healthcare       41.562500\n",
            "homemaker        32.571429\n",
            "lawyer           36.750000\n",
            "librarian        40.000000\n",
            "marketing        37.615385\n",
            "none             26.555556\n",
            "other            34.523810\n",
            "programmer       33.121212\n",
            "retired          63.071429\n",
            "salesman         35.666667\n",
            "scientist        35.548387\n",
            "student          22.081633\n",
            "technician       33.148148\n",
            "writer           36.311111\n",
            "Name: age, dtype: float64\n"
          ]
        }
      ]
    },
    {
      "cell_type": "markdown",
      "source": [
        "Step 5. Discover the Male ratio per occupation and sort it from the most to the least"
      ],
      "metadata": {
        "id": "MDx1G5bBj-JL"
      }
    },
    {
      "cell_type": "code",
      "source": [
        "def male_ratio(group):\n",
        "    return (group == 'M').sum() / group.size\n",
        "\n",
        "male_ratio_per_occupation = users.groupby('occupation')['gender'].apply(male_ratio).sort_values(ascending=False)\n",
        "print(\"\\nMale ratio per occupation (sorted):\\n\", male_ratio_per_occupation)"
      ],
      "metadata": {
        "colab": {
          "base_uri": "https://localhost:8080/"
        },
        "id": "DeSdW-HTkSqD",
        "outputId": "0a83f279-751b-4777-de48-5570a8290b88"
      },
      "execution_count": 6,
      "outputs": [
        {
          "output_type": "stream",
          "name": "stdout",
          "text": [
            "\n",
            "Male ratio per occupation (sorted):\n",
            " occupation\n",
            "doctor           1.000000\n",
            "engineer         0.970149\n",
            "technician       0.962963\n",
            "retired          0.928571\n",
            "programmer       0.909091\n",
            "executive        0.906250\n",
            "scientist        0.903226\n",
            "entertainment    0.888889\n",
            "lawyer           0.833333\n",
            "salesman         0.750000\n",
            "educator         0.726316\n",
            "student          0.693878\n",
            "other            0.657143\n",
            "marketing        0.615385\n",
            "writer           0.577778\n",
            "none             0.555556\n",
            "administrator    0.544304\n",
            "artist           0.535714\n",
            "librarian        0.431373\n",
            "healthcare       0.312500\n",
            "homemaker        0.142857\n",
            "Name: gender, dtype: float64\n"
          ]
        }
      ]
    },
    {
      "cell_type": "markdown",
      "source": [
        "Step 6. For each occupation, calculate the minimum and maximum ages"
      ],
      "metadata": {
        "id": "k5aWFRnHksun"
      }
    },
    {
      "cell_type": "code",
      "source": [
        "age_range_per_occupation = users.groupby('occupation')['age'].agg(['min', 'max'])\n",
        "print(\"\\nMinimum and maximum ages per occupation:\\n\", age_range_per_occupation)\n"
      ],
      "metadata": {
        "colab": {
          "base_uri": "https://localhost:8080/"
        },
        "id": "qJdm_uHokdLQ",
        "outputId": "8ecbd32a-a28f-4c32-ff29-52e8b310e923"
      },
      "execution_count": 7,
      "outputs": [
        {
          "output_type": "stream",
          "name": "stdout",
          "text": [
            "\n",
            "Minimum and maximum ages per occupation:\n",
            "                min  max\n",
            "occupation             \n",
            "administrator   21   70\n",
            "artist          19   48\n",
            "doctor          28   64\n",
            "educator        23   63\n",
            "engineer        22   70\n",
            "entertainment   15   50\n",
            "executive       22   69\n",
            "healthcare      22   62\n",
            "homemaker       20   50\n",
            "lawyer          21   53\n",
            "librarian       23   69\n",
            "marketing       24   55\n",
            "none            11   55\n",
            "other           13   64\n",
            "programmer      20   63\n",
            "retired         51   73\n",
            "salesman        18   66\n",
            "scientist       23   55\n",
            "student          7   42\n",
            "technician      21   55\n",
            "writer          18   60\n"
          ]
        }
      ]
    },
    {
      "cell_type": "markdown",
      "source": [
        " Step 7. For each combination of occupation and gender, calculate the mean age"
      ],
      "metadata": {
        "id": "QcQFn2z4lf9_"
      }
    },
    {
      "cell_type": "code",
      "source": [
        "mean_age_per_occupation_gender = users.groupby(['occupation', 'gender'])['age'].mean()\n",
        "print(\"\\nMean age per combination of occupation and gender:\\n\", mean_age_per_occupation_gender)"
      ],
      "metadata": {
        "colab": {
          "base_uri": "https://localhost:8080/"
        },
        "id": "v5lBCq9gk-JF",
        "outputId": "5db2e0b2-df29-4855-e201-9d8bfcce3904"
      },
      "execution_count": 9,
      "outputs": [
        {
          "output_type": "stream",
          "name": "stdout",
          "text": [
            "\n",
            "Mean age per combination of occupation and gender:\n",
            " occupation     gender\n",
            "administrator  F         40.638889\n",
            "               M         37.162791\n",
            "artist         F         30.307692\n",
            "               M         32.333333\n",
            "doctor         M         43.571429\n",
            "educator       F         39.115385\n",
            "               M         43.101449\n",
            "engineer       F         29.500000\n",
            "               M         36.600000\n",
            "entertainment  F         31.000000\n",
            "               M         29.000000\n",
            "executive      F         44.000000\n",
            "               M         38.172414\n",
            "healthcare     F         39.818182\n",
            "               M         45.400000\n",
            "homemaker      F         34.166667\n",
            "               M         23.000000\n",
            "lawyer         F         39.500000\n",
            "               M         36.200000\n",
            "librarian      F         40.000000\n",
            "               M         40.000000\n",
            "marketing      F         37.200000\n",
            "               M         37.875000\n",
            "none           F         36.500000\n",
            "               M         18.600000\n",
            "other          F         35.472222\n",
            "               M         34.028986\n",
            "programmer     F         32.166667\n",
            "               M         33.216667\n",
            "retired        F         70.000000\n",
            "               M         62.538462\n",
            "salesman       F         27.000000\n",
            "               M         38.555556\n",
            "scientist      F         28.333333\n",
            "               M         36.321429\n",
            "student        F         20.750000\n",
            "               M         22.669118\n",
            "technician     F         38.000000\n",
            "               M         32.961538\n",
            "writer         F         37.631579\n",
            "               M         35.346154\n",
            "Name: age, dtype: float64\n"
          ]
        }
      ]
    },
    {
      "cell_type": "markdown",
      "source": [
        "Step 8. For each occupation, present the percentage of women and men"
      ],
      "metadata": {
        "id": "u8xkowJmlviP"
      }
    },
    {
      "cell_type": "code",
      "source": [
        "gender_percentage_per_occupation = users.pivot_table(index='occupation', columns='gender', aggfunc='size', fill_value=0)\n",
        "gender_percentage_per_occupation['total'] = gender_percentage_per_occupation['F'] + gender_percentage_per_occupation['M']\n",
        "gender_percentage_per_occupation['female_percentage'] = (gender_percentage_per_occupation['F'] / gender_percentage_per_occupation['total']) * 100\n",
        "gender_percentage_per_occupation['male_percentage'] = (gender_percentage_per_occupation['M'] / gender_percentage_per_occupation['total']) * 100\n",
        "gender_percentage_per_occupation = gender_percentage_per_occupation[['female_percentage', 'male_percentage']]\n",
        "print(\"\\nPercentage of women and men per occupation:\\n\", gender_percentage_per_occupation)"
      ],
      "metadata": {
        "colab": {
          "base_uri": "https://localhost:8080/"
        },
        "id": "y9rUzeHUll5E",
        "outputId": "9b9d73ea-9a1c-4124-8957-109e3da0ccd3"
      },
      "execution_count": 10,
      "outputs": [
        {
          "output_type": "stream",
          "name": "stdout",
          "text": [
            "\n",
            "Percentage of women and men per occupation:\n",
            " gender         female_percentage  male_percentage\n",
            "occupation                                       \n",
            "administrator          45.569620        54.430380\n",
            "artist                 46.428571        53.571429\n",
            "doctor                  0.000000       100.000000\n",
            "educator               27.368421        72.631579\n",
            "engineer                2.985075        97.014925\n",
            "entertainment          11.111111        88.888889\n",
            "executive               9.375000        90.625000\n",
            "healthcare             68.750000        31.250000\n",
            "homemaker              85.714286        14.285714\n",
            "lawyer                 16.666667        83.333333\n",
            "librarian              56.862745        43.137255\n",
            "marketing              38.461538        61.538462\n",
            "none                   44.444444        55.555556\n",
            "other                  34.285714        65.714286\n",
            "programmer              9.090909        90.909091\n",
            "retired                 7.142857        92.857143\n",
            "salesman               25.000000        75.000000\n",
            "scientist               9.677419        90.322581\n",
            "student                30.612245        69.387755\n",
            "technician              3.703704        96.296296\n",
            "writer                 42.222222        57.777778\n"
          ]
        }
      ]
    },
    {
      "cell_type": "markdown",
      "source": [],
      "metadata": {
        "id": "w2JgsAdDmBuX"
      }
    },
    {
      "cell_type": "code",
      "source": [],
      "metadata": {
        "id": "22ZvF20VmC_b"
      },
      "execution_count": null,
      "outputs": []
    }
  ]
}