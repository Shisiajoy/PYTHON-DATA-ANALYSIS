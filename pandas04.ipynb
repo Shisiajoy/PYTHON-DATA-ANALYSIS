{
  "nbformat": 4,
  "nbformat_minor": 0,
  "metadata": {
    "colab": {
      "provenance": [],
      "authorship_tag": "ABX9TyNrpVv+yyRqhqzu6ORxPkQI",
      "include_colab_link": true
    },
    "kernelspec": {
      "name": "python3",
      "display_name": "Python 3"
    },
    "language_info": {
      "name": "python"
    }
  },
  "cells": [
    {
      "cell_type": "markdown",
      "metadata": {
        "id": "view-in-github",
        "colab_type": "text"
      },
      "source": [
        "<a href=\"https://colab.research.google.com/github/Shisiajoy/PYTHON-DATA-ANALYSIS/blob/main/pandas04.ipynb\" target=\"_parent\"><img src=\"https://colab.research.google.com/assets/colab-badge.svg\" alt=\"Open In Colab\"/></a>"
      ]
    },
    {
      "cell_type": "markdown",
      "source": [
        "\n",
        "Regiment\n",
        "\n",
        "Introduction:\n",
        "\n",
        "Special thanks to: http://chrisalbon.com/ for sharing the dataset and materials.\n",
        "\n",
        "Step 1. Import the necessary libraries"
      ],
      "metadata": {
        "id": "PpjsvMvKqUft"
      }
    },
    {
      "cell_type": "code",
      "execution_count": null,
      "metadata": {
        "id": "5L10V5uqqNFM"
      },
      "outputs": [],
      "source": [
        "import pandas as pd"
      ]
    },
    {
      "cell_type": "markdown",
      "source": [
        "Step 2. Create the DataFrame with the following values:\n",
        "\n",
        "\n",
        "raw_data = {'regiment': ['Nighthawks', 'Nighthawks', 'Nighthawks', 'Nighthawks', 'Dragoons', 'Dragoons', 'Dragoons', 'Dragoons', 'Scouts', 'Scouts', 'Scouts', 'Scouts'],\n",
        "\n",
        "\n",
        "        'company': ['1st', '1st', '2nd', '2nd', '1st', '1st', '2nd', '2nd','1st', '1st', '2nd', '2nd'],\n",
        "\n",
        "\n",
        "        'name': ['Miller', 'Jacobson', 'Ali', 'Milner', 'Cooze', 'Jacon', 'Ryaner', 'Sone', 'Sloan', 'Piger', 'Riani', 'Ali'],\n",
        "\n",
        "\n",
        "        'preTestScore': [4, 24, 31, 2, 3, 4, 24, 31, 2, 3, 2, 3],\n",
        "\n",
        "\n",
        "        'postTestScore': [25, 94, 57, 62, 70, 25, 94, 57, 62, 70, 62, 70]}\n",
        "\n",
        "---\n",
        "\n"
      ],
      "metadata": {
        "id": "VQw9YDeXq9FT"
      }
    },
    {
      "cell_type": "code",
      "source": [
        "import pandas as pd\n",
        "raw_data = {\n",
        "    'regiment': ['Nighthawks', 'Nighthawks', 'Nighthawks', 'Nighthawks', 'Dragoons', 'Dragoons', 'Dragoons', 'Dragoons', 'Scouts', 'Scouts', 'Scouts', 'Scouts'],\n",
        "    'company': ['1st', '1st', '2nd', '2nd', '1st', '1st', '2nd', '2nd','1st', '1st', '2nd', '2nd'],\n",
        "    'name': ['Miller', 'Jacobson', 'Ali', 'Milner', 'Cooze', 'Jacon', 'Ryaner', 'Sone', 'Sloan', 'Piger', 'Riani', 'Ali'],\n",
        "    'preTestScore': [4, 24, 31, 2, 3, 4, 24, 31, 2, 3, 2, 3],\n",
        "    'postTestScore': [25, 94, 57, 62, 70, 25, 94, 57, 62, 70, 62, 70]\n",
        "}\n",
        "\n",
        "regiment = pd.DataFrame(raw_data)\n",
        "\n",
        "print (regiment)\n"
      ],
      "metadata": {
        "colab": {
          "base_uri": "https://localhost:8080/"
        },
        "id": "me4pi5kgqq7r",
        "outputId": "7e7b6323-a769-4a53-fbe7-7939cc50f4c9"
      },
      "execution_count": 3,
      "outputs": [
        {
          "output_type": "stream",
          "name": "stdout",
          "text": [
            "      regiment company      name  preTestScore  postTestScore\n",
            "0   Nighthawks     1st    Miller             4             25\n",
            "1   Nighthawks     1st  Jacobson            24             94\n",
            "2   Nighthawks     2nd       Ali            31             57\n",
            "3   Nighthawks     2nd    Milner             2             62\n",
            "4     Dragoons     1st     Cooze             3             70\n",
            "5     Dragoons     1st     Jacon             4             25\n",
            "6     Dragoons     2nd    Ryaner            24             94\n",
            "7     Dragoons     2nd      Sone            31             57\n",
            "8       Scouts     1st     Sloan             2             62\n",
            "9       Scouts     1st     Piger             3             70\n",
            "10      Scouts     2nd     Riani             2             62\n",
            "11      Scouts     2nd       Ali             3             70\n"
          ]
        }
      ]
    },
    {
      "cell_type": "markdown",
      "source": [
        "Step 4. Mean preTestScore from the regiment Nighthawks"
      ],
      "metadata": {
        "id": "bCOvMNaEsMfG"
      }
    },
    {
      "cell_type": "code",
      "source": [
        "mean_preTestScore_nighthawks = regiment[regiment['regiment'] == 'Nighthawks']['preTestScore'].mean()\n",
        "print(\"Mean preTestScore from the regiment Nighthawks:\", mean_preTestScore_nighthawks)"
      ],
      "metadata": {
        "colab": {
          "base_uri": "https://localhost:8080/"
        },
        "id": "3dZByMWWr3pH",
        "outputId": "bce0aaf0-7a81-4ec2-d867-4899c0d0d82e"
      },
      "execution_count": 4,
      "outputs": [
        {
          "output_type": "stream",
          "name": "stdout",
          "text": [
            "Mean preTestScore from the regiment Nighthawks: 15.25\n"
          ]
        }
      ]
    },
    {
      "cell_type": "markdown",
      "source": [
        "Step 5. General statistics by company"
      ],
      "metadata": {
        "id": "Y5Jif4qAsgmH"
      }
    },
    {
      "cell_type": "code",
      "source": [
        "company_statistics = regiment.groupby('company').describe()\n",
        "print(\"General statistics by company:\\n\", company_statistics)\n"
      ],
      "metadata": {
        "colab": {
          "base_uri": "https://localhost:8080/"
        },
        "id": "FYH27k-osWvN",
        "outputId": "ab52a829-27dc-4614-b778-2f4cfabf2cf0"
      },
      "execution_count": 5,
      "outputs": [
        {
          "output_type": "stream",
          "name": "stdout",
          "text": [
            "General statistics by company:\n",
            "         preTestScore                                                      \\\n",
            "               count       mean        std  min   25%   50%    75%   max   \n",
            "company                                                                    \n",
            "1st              6.0   6.666667   8.524475  2.0  3.00   3.5   4.00  24.0   \n",
            "2nd              6.0  15.500000  14.652645  2.0  2.25  13.5  29.25  31.0   \n",
            "\n",
            "        postTestScore                                                       \n",
            "                count       mean        std   min    25%   50%   75%   max  \n",
            "company                                                                     \n",
            "1st               6.0  57.666667  27.485754  25.0  34.25  66.0  70.0  94.0  \n",
            "2nd               6.0  67.000000  14.057027  57.0  58.25  62.0  68.0  94.0  \n"
          ]
        }
      ]
    },
    {
      "cell_type": "markdown",
      "source": [
        "Step 6. Mean preTestScore of each company"
      ],
      "metadata": {
        "id": "tMc1nR5Js02v"
      }
    },
    {
      "cell_type": "code",
      "source": [
        "mean_preTestScore_company = regiment.groupby('company')['preTestScore'].mean()\n",
        "print(\"Mean preTestScore of each company:\\n\", mean_preTestScore_company)"
      ],
      "metadata": {
        "colab": {
          "base_uri": "https://localhost:8080/"
        },
        "id": "mrWvtJqesl3W",
        "outputId": "92daf87a-936c-4eae-dfa7-37c51dad6e69"
      },
      "execution_count": 6,
      "outputs": [
        {
          "output_type": "stream",
          "name": "stdout",
          "text": [
            "Mean preTestScore of each company:\n",
            " company\n",
            "1st     6.666667\n",
            "2nd    15.500000\n",
            "Name: preTestScore, dtype: float64\n"
          ]
        }
      ]
    },
    {
      "cell_type": "markdown",
      "source": [
        "Step 7. Mean preTestScores grouped by regiment and company"
      ],
      "metadata": {
        "id": "Itq6ecbatPse"
      }
    },
    {
      "cell_type": "code",
      "source": [
        "mean_preTestScores_grouped = regiment.groupby(['regiment', 'company'])['preTestScore'].mean()\n",
        "print(\"Mean preTestScores grouped by regiment and company:\\n\", mean_preTestScores_grouped)\n"
      ],
      "metadata": {
        "colab": {
          "base_uri": "https://localhost:8080/"
        },
        "id": "7oxt9EFhs9Mi",
        "outputId": "7c626c0f-dd99-43f4-8777-bee857d7145f"
      },
      "execution_count": 7,
      "outputs": [
        {
          "output_type": "stream",
          "name": "stdout",
          "text": [
            "Mean preTestScores grouped by regiment and company:\n",
            " regiment    company\n",
            "Dragoons    1st         3.5\n",
            "            2nd        27.5\n",
            "Nighthawks  1st        14.0\n",
            "            2nd        16.5\n",
            "Scouts      1st         2.5\n",
            "            2nd         2.5\n",
            "Name: preTestScore, dtype: float64\n"
          ]
        }
      ]
    },
    {
      "cell_type": "markdown",
      "source": [
        "Step 8. Mean preTestScores grouped by regiment and company without hierarchical indexing"
      ],
      "metadata": {
        "id": "sIJAuyGotcVE"
      }
    },
    {
      "cell_type": "code",
      "source": [
        "mean_preTestScores_grouped_reset_index = mean_preTestScores_grouped.reset_index()\n",
        "print(\"Mean preTestScores grouped by regiment and company without hierarchical indexing:\\n\", mean_preTestScores_grouped_reset_index)"
      ],
      "metadata": {
        "colab": {
          "base_uri": "https://localhost:8080/"
        },
        "id": "2vJuWkfstVr-",
        "outputId": "6bbb9fc8-0d21-4cc5-bbe4-50803ce19ded"
      },
      "execution_count": 8,
      "outputs": [
        {
          "output_type": "stream",
          "name": "stdout",
          "text": [
            "Mean preTestScores grouped by regiment and company without hierarchical indexing:\n",
            "      regiment company  preTestScore\n",
            "0    Dragoons     1st           3.5\n",
            "1    Dragoons     2nd          27.5\n",
            "2  Nighthawks     1st          14.0\n",
            "3  Nighthawks     2nd          16.5\n",
            "4      Scouts     1st           2.5\n",
            "5      Scouts     2nd           2.5\n"
          ]
        }
      ]
    },
    {
      "cell_type": "markdown",
      "source": [
        "Step 9. Group the entire dataframe by regiment and company"
      ],
      "metadata": {
        "id": "aRbzYByutrgv"
      }
    },
    {
      "cell_type": "code",
      "source": [
        "grouped_regiment_company = regiment.groupby(['regiment', 'company'])"
      ],
      "metadata": {
        "id": "Nft3-RFftjtn"
      },
      "execution_count": 11,
      "outputs": []
    },
    {
      "cell_type": "markdown",
      "source": [
        "Step 10. Number of observations in each regiment and company"
      ],
      "metadata": {
        "id": "kehlhw6YuAiy"
      }
    },
    {
      "cell_type": "code",
      "source": [
        "num_observations = grouped_regiment_company.size()\n",
        "print(\"Number of observations in each regiment and company:\\n\", num_observations)"
      ],
      "metadata": {
        "colab": {
          "base_uri": "https://localhost:8080/"
        },
        "id": "VIiY8LsUtxZu",
        "outputId": "1fff2a26-a047-4085-dcdc-c8f0c3b97170"
      },
      "execution_count": 12,
      "outputs": [
        {
          "output_type": "stream",
          "name": "stdout",
          "text": [
            "Number of observations in each regiment and company:\n",
            " regiment    company\n",
            "Dragoons    1st        2\n",
            "            2nd        2\n",
            "Nighthawks  1st        2\n",
            "            2nd        2\n",
            "Scouts      1st        2\n",
            "            2nd        2\n",
            "dtype: int64\n"
          ]
        }
      ]
    },
    {
      "cell_type": "markdown",
      "source": [
        " Step 11. Iterate over a group and print the name and the whole data from the regiment\n"
      ],
      "metadata": {
        "id": "9VOPUyoquHpy"
      }
    },
    {
      "cell_type": "code",
      "source": [
        "for name, group in grouped_regiment_company:\n",
        "    print(\"\\nName:\", name)\n",
        "    print(group)"
      ],
      "metadata": {
        "colab": {
          "base_uri": "https://localhost:8080/"
        },
        "id": "sT1yy4aauGVA",
        "outputId": "e013167e-86f3-4efa-99e0-2440ef8b583d"
      },
      "execution_count": 13,
      "outputs": [
        {
          "output_type": "stream",
          "name": "stdout",
          "text": [
            "\n",
            "Name: ('Dragoons', '1st')\n",
            "   regiment company   name  preTestScore  postTestScore\n",
            "4  Dragoons     1st  Cooze             3             70\n",
            "5  Dragoons     1st  Jacon             4             25\n",
            "\n",
            "Name: ('Dragoons', '2nd')\n",
            "   regiment company    name  preTestScore  postTestScore\n",
            "6  Dragoons     2nd  Ryaner            24             94\n",
            "7  Dragoons     2nd    Sone            31             57\n",
            "\n",
            "Name: ('Nighthawks', '1st')\n",
            "     regiment company      name  preTestScore  postTestScore\n",
            "0  Nighthawks     1st    Miller             4             25\n",
            "1  Nighthawks     1st  Jacobson            24             94\n",
            "\n",
            "Name: ('Nighthawks', '2nd')\n",
            "     regiment company    name  preTestScore  postTestScore\n",
            "2  Nighthawks     2nd     Ali            31             57\n",
            "3  Nighthawks     2nd  Milner             2             62\n",
            "\n",
            "Name: ('Scouts', '1st')\n",
            "  regiment company   name  preTestScore  postTestScore\n",
            "8   Scouts     1st  Sloan             2             62\n",
            "9   Scouts     1st  Piger             3             70\n",
            "\n",
            "Name: ('Scouts', '2nd')\n",
            "   regiment company   name  preTestScore  postTestScore\n",
            "10   Scouts     2nd  Riani             2             62\n",
            "11   Scouts     2nd    Ali             3             70\n"
          ]
        }
      ]
    },
    {
      "cell_type": "code",
      "source": [],
      "metadata": {
        "id": "0ERY1EU4ucNs"
      },
      "execution_count": null,
      "outputs": []
    }
  ]
}